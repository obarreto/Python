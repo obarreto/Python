{
  "nbformat": 4,
  "nbformat_minor": 0,
  "metadata": {
    "colab": {
      "provenance": [],
      "authorship_tag": "ABX9TyMjFb7FcLC8ngXLJ+twnzaZ",
      "include_colab_link": true
    },
    "kernelspec": {
      "name": "python3",
      "display_name": "Python 3"
    },
    "language_info": {
      "name": "python"
    }
  },
  "cells": [
    {
      "cell_type": "markdown",
      "metadata": {
        "id": "view-in-github",
        "colab_type": "text"
      },
      "source": [
        "<a href=\"https://colab.research.google.com/github/obarreto/Python/blob/main/Python_introtuction.ipynb\" target=\"_parent\"><img src=\"https://colab.research.google.com/assets/colab-badge.svg\" alt=\"Open In Colab\"/></a>"
      ]
    },
    {
      "cell_type": "code",
      "execution_count": 1,
      "metadata": {
        "colab": {
          "base_uri": "https://localhost:8080/",
          "height": 87
        },
        "id": "LWdbalARPuOl",
        "outputId": "76f9226f-d1d0-458c-853d-419dd63a2364"
      },
      "outputs": [
        {
          "name": "stdout",
          "output_type": "stream",
          "text": [
            "Hello World\n",
            "Seja bem-vindo(a) ao curso de Python do Coding Tank !\n",
            "Qual é alinguagem de programção que você está utilizando? Python\n"
          ]
        },
        {
          "output_type": "execute_result",
          "data": {
            "text/plain": [
              "'Python'"
            ],
            "application/vnd.google.colaboratory.intrinsic+json": {
              "type": "string"
            }
          },
          "metadata": {},
          "execution_count": 1
        }
      ],
      "source": [
        "print ('Hello World')\n",
        "print('Seja bem-vindo(a) ao curso de Python do Coding Tank !')\n",
        "\n",
        "input('Qual é alinguagem de programção que você está utilizando? ')\n"
      ]
    },
    {
      "cell_type": "code",
      "source": [
        "# > VARIÁBLES\n",
        "\n",
        "#1. Variáveis\n",
        "\n",
        "idade = 26 # Criando um variável\n",
        "\n",
        "print(idade)\n",
        "\n",
        "nome = 'Ozeias Barreto'\n",
        "print(nome)\n",
        "\"\"\"\n",
        "Tipos de variáveis\n",
        "\n",
        "1. int:n[numeros inteiros, ou seja, números sem parte decimal: 0, 5, -1, 1000]\n",
        "2. float: números reais, ou seja, números com parte de cimal: 1.0, -2.7, 3.14\n",
        "3. str: cadeias de caracteres, ou seja, dados textuais\n",
        "4. bool: valores lógicos(booleanos): True ou False\n",
        "\"\"\""
      ],
      "metadata": {
        "colab": {
          "base_uri": "https://localhost:8080/",
          "height": 35
        },
        "id": "UVO4Cn9nPvr3",
        "outputId": "81fb8a9e-4f41-44c3-9afb-0985536431b4"
      },
      "execution_count": 2,
      "outputs": [
        {
          "output_type": "execute_result",
          "data": {
            "text/plain": [
              "'\\n'"
            ],
            "application/vnd.google.colaboratory.intrinsic+json": {
              "type": "string"
            }
          },
          "metadata": {},
          "execution_count": 2
        }
      ]
    },
    {
      "cell_type": "code",
      "source": [
        "idade = 35\n",
        "print(idade)\n",
        "altura = 1.75\n",
        "print(altura)\n",
        "nome = \"Ozeias Barreto\"\n",
        "print (nome)\n",
        "estudando = True\n",
        "print(estudando)\n",
        "\n",
        "print( type(idade))\n",
        "print( type(altura))\n",
        "print( type(nome))\n",
        "print( type(estudando))\n",
        "\n",
        "#Obtendo dados do usuário e salvando em variáveis\n",
        "\n",
        "linguagem = input('Qual linguagem você está estudando ? ')\n",
        "print('A linguagem que você está estudando é ' + linguagem + '!')"
      ],
      "metadata": {
        "colab": {
          "base_uri": "https://localhost:8080/"
        },
        "id": "CF-CyWXUQni1",
        "outputId": "b81f804d-441b-4786-cff1-f24368bdec68"
      },
      "execution_count": 4,
      "outputs": [
        {
          "output_type": "stream",
          "name": "stdout",
          "text": [
            "35\n",
            "1.75\n",
            "Ozeias Barreto\n",
            "True\n",
            "<class 'int'>\n",
            "<class 'float'>\n",
            "<class 'str'>\n",
            "<class 'bool'>\n",
            "Qual linguagem você está estudando ? Python\n",
            "A linguagem que você está estudando é Python!\n"
          ]
        }
      ]
    },
    {
      "cell_type": "code",
      "source": [
        "# > Operações Matemáticas (Aritméticas)\n",
        "\n",
        "\"\"\"\n",
        "- Soma: +\n",
        "- Subtração: -\n",
        "- Multiplicação: *\n",
        "- Divisão: /\n",
        "- Potência: **\n",
        "- Módulo: %\n",
        "\"\"\"\n",
        "\n",
        "numero1 = 10\n",
        "numero2 = 5\n",
        "\n",
        "print(numero1 + numero2)\n",
        "print(numero1 - numero2)\n",
        "print(numero1 * numero2)\n",
        "print(numero1 / numero2)\n",
        "print(numero1 // numero2) #pega apenas a parte inteira da divisão\n",
        "print(numero1 ** numero2)\n",
        "print(numero1 % numero2)"
      ],
      "metadata": {
        "colab": {
          "base_uri": "https://localhost:8080/"
        },
        "id": "YHFdpB12UBmz",
        "outputId": "4592dab7-a19a-4211-9114-20d3503410e7"
      },
      "execution_count": 5,
      "outputs": [
        {
          "output_type": "stream",
          "name": "stdout",
          "text": [
            "15\n",
            "5\n",
            "50\n",
            "2.0\n",
            "100000\n",
            "0\n"
          ]
        }
      ]
    },
    {
      "cell_type": "code",
      "source": [
        "# OPERADORES BOOLEANOS\n",
        "\n",
        "idade1 = 10\n",
        "idade2 = 18\n",
        "altura1 = 1.5\n",
        "altura2 = 1.69\n",
        "altura3 = altura2\n",
        "\n",
        "print(idade1 > idade2)\n",
        "print(idade1 < idade2)\n",
        "print(idade1 == idade2)\n",
        "# Para texto sempre utilizar == ou !=\n",
        "print('Python' == 'Java')\n",
        "print('banana' != 'abacaxi')\n",
        "\n",
        "print(altura1 >= altura2)\n",
        "print(altura1 > altura3)"
      ],
      "metadata": {
        "colab": {
          "base_uri": "https://localhost:8080/"
        },
        "id": "x688bsZlV_wq",
        "outputId": "97093de8-4680-42ab-926b-5a3c4eadf943"
      },
      "execution_count": 6,
      "outputs": [
        {
          "output_type": "stream",
          "name": "stdout",
          "text": [
            "False\n",
            "True\n",
            "False\n",
            "False\n",
            "True\n",
            "False\n",
            "False\n"
          ]
        }
      ]
    },
    {
      "cell_type": "code",
      "source": [
        "# OPERADORES BOOLEANOS\n",
        "\n",
        "idade1 = 10\n",
        "idade2 = 18\n",
        "altura1 = 1.5\n",
        "altura2 = 1.69\n",
        "altura3 = altura2\n",
        "\n",
        "print(idade1 > idade2)\n",
        "print(idade1 < idade2)\n",
        "print(idade1 == idade2)\n",
        "# Para texto sempre utilizar == ou !=\n",
        "print('Python' == 'Java')\n",
        "print('banana' != 'abacaxi')\n",
        "\n",
        "print(altura1 >= altura2)\n",
        "print(altura1 > altura3)"
      ],
      "metadata": {
        "colab": {
          "base_uri": "https://localhost:8080/"
        },
        "outputId": "97093de8-4680-42ab-926b-5a3c4eadf943",
        "id": "5rn9HSluXoR1"
      },
      "execution_count": null,
      "outputs": [
        {
          "output_type": "stream",
          "name": "stdout",
          "text": [
            "False\n",
            "True\n",
            "False\n",
            "False\n",
            "True\n",
            "False\n",
            "False\n"
          ]
        }
      ]
    },
    {
      "cell_type": "code",
      "source": [
        "# OPERADORES BOOLEANOS\n",
        "\n",
        "idade1 = 10\n",
        "idade2 = 18\n",
        "altura1 = 1.5\n",
        "altura2 = 1.69\n",
        "altura3 = altura2\n",
        "\n",
        "print(idade1 > idade2)\n",
        "print(idade1 < idade2)\n",
        "print(idade1 == idade2)\n",
        "# Para texto sempre utilizar == ou !=\n",
        "print('Python' == 'Java')\n",
        "print('banana' != 'abacaxi')\n",
        "\n",
        "print(altura1 >= altura2)\n",
        "print(altura1 > altura3)"
      ],
      "metadata": {
        "colab": {
          "base_uri": "https://localhost:8080/"
        },
        "outputId": "97093de8-4680-42ab-926b-5a3c4eadf943",
        "id": "z1Iov6WZXpF-"
      },
      "execution_count": null,
      "outputs": [
        {
          "output_type": "stream",
          "name": "stdout",
          "text": [
            "False\n",
            "True\n",
            "False\n",
            "False\n",
            "True\n",
            "False\n",
            "False\n"
          ]
        }
      ]
    },
    {
      "cell_type": "code",
      "source": [
        "# OPERADORES BOOLEANOS\n",
        "\n",
        "idade1 = 10\n",
        "idade2 = 18\n",
        "altura1 = 1.5\n",
        "altura2 = 1.69\n",
        "altura3 = altura2\n",
        "\n",
        "print(idade1 > idade2)\n",
        "print(idade1 < idade2)\n",
        "print(idade1 == idade2)\n",
        "# Para texto sempre utilizar == ou !=\n",
        "print('Python' == 'Java')\n",
        "print('banana' != 'abacaxi')\n",
        "\n",
        "print(altura1 >= altura2)\n",
        "print(altura1 > altura3)"
      ],
      "metadata": {
        "colab": {
          "base_uri": "https://localhost:8080/"
        },
        "outputId": "97093de8-4680-42ab-926b-5a3c4eadf943",
        "id": "juYgtgIyXq-C"
      },
      "execution_count": null,
      "outputs": [
        {
          "output_type": "stream",
          "name": "stdout",
          "text": [
            "False\n",
            "True\n",
            "False\n",
            "False\n",
            "True\n",
            "False\n",
            "False\n"
          ]
        }
      ]
    },
    {
      "cell_type": "code",
      "source": [
        "# Conversão de Tipos\n",
        "idade = '26'\n",
        "idade2 = '36'\n",
        "print(idade + idade2)\n",
        "idade = int(idade)\n",
        "print(idade, type(idade))\n",
        "print(type(idade))\n",
        "\n",
        "#int()\n",
        "#str()\n",
        "#float()\n",
        "#bool()\n",
        "\n",
        "altura = input('Digita sua altura: ')\n",
        "print(altura, type(altura))\n",
        "altura = float(altura)\n",
        "print(altura, type(altura))\n",
        "\n",
        "#ou\n",
        "\n",
        "altura = float(input('Digita sua altura: '))\n",
        "print(altura, type(altura))"
      ],
      "metadata": {
        "colab": {
          "base_uri": "https://localhost:8080/"
        },
        "id": "XKkXdcxZX6KB",
        "outputId": "251ce8eb-5b14-4cc0-f22c-fac7ad1eb67a"
      },
      "execution_count": 11,
      "outputs": [
        {
          "output_type": "stream",
          "name": "stdout",
          "text": [
            "2636\n",
            "26 <class 'int'>\n",
            "<class 'int'>\n",
            "Digita sua altura: 1.76\n",
            "1.76 <class 'str'>\n",
            "1.76 <class 'float'>\n",
            "Digita sua altura: 1.69\n",
            "1.69 <class 'float'>\n"
          ]
        }
      ]
    },
    {
      "cell_type": "markdown",
      "source": [
        "Questão 1\n",
        "\n",
        "Muitas vezes é requerido o armazenamento de algum valor ou o resultado de alguma operação, para que os dados possam ser utilizados em outras partes do programa. Para que isso seja possível, o Python permite a criação de variáveis. Sabendo disso, considere o trecho de código a seguir:\n",
        "\n",
        "var1 = 12\n",
        "\n",
        "var2 = 30\n",
        "\n",
        "var3 = var1 XXX var2\n",
        "\n",
        "print(var3)\n",
        "\n",
        "var3 = var3 YYY 2\n",
        "\n",
        "print(var3)\n",
        "\n",
        "A instrução print(var3) exibe na tela o valor armazenado na variável var3, em cada uma das duas vezes que a instrução aparece no script acima. Para que os valores exibidos na tela sejam, nessa ordem, 42 e 21.0, quais operadores matemáticos devem substituir 'XXX' e 'YYY' no trecho de código, respectivamente?\n",
        "\n",
        "+ e :\n",
        "\n",
        "* e /\n",
        "\n",
        "+ e *\n",
        "\n",
        "+ e /\n",
        "\n"
      ],
      "metadata": {
        "id": "3MoVGU8jckHa"
      }
    },
    {
      "cell_type": "markdown",
      "source": [
        "Questão 2\n",
        "\n",
        "Algumas situações requerem que os dados sejam recebidos diretamente pelo usuário como parte da execução do programa. Isso pode ser feito com a função input(). No entanto, esta função sempre retorna os valores em string. Assim, se os dados esperados do usuário forem numéricos, é importante realizar a conversão dos tipos de dados para que eles possam ser processados. Considere o trecho abaixo:\n",
        "\n",
        "num1 = XXX\n",
        "\n",
        "dobro = 2*num1\n",
        "\n",
        "print(\"O dobro do número digitado é:\", dobro)\n",
        "\n",
        "Levando em consideração que o usuário pode entregar qualquer número como input, o 'XXX' no código acima deve ser substituído por qual elemento?\n",
        "\n",
        "input(\"Digite um número a seguir: \")\n",
        "\n",
        "float(input(\"Digite um número a seguir: \"))\n",
        "\n",
        "str(input(\"Digite um número a seguir: \"))\n",
        "\n",
        "int(input(\"Digite um número a seguir: \"))\n",
        "\n",
        "list(input(\"Digite um número a seguir: \"))\n",
        "\n"
      ],
      "metadata": {
        "id": "USzyrLs_cnLq"
      }
    },
    {
      "cell_type": "markdown",
      "source": [
        "Questão 3\n",
        "\n",
        "Para a construção de programas flexíveis e mais complexos, é necessário que haja a realização de comparações. Isso é possível com o uso de operadores lógicos de comparação (em python: ==, !=, <, <=, >, >=), como mostra o código:\n",
        "\n",
        "x = 10\n",
        "y = 4.2\n",
        "\n",
        "num = float(input(\"Digite um número a seguir: \"))\n",
        "\n",
        "print(num > x*y, num <= x + y, num*y != x*y)\n",
        "\n",
        "Suponha que na execução do script acima, o usuário digitou o valor 10, quando solicitado pelo input. Qual das alternativas a seguir produz o mesmo output que o script acima?\n",
        "\n",
        "print(num == x, num == y, num == x + y)\n",
        "\n",
        "print(2 == \"2\", False, 2.0 == 2)\n",
        "\n",
        "print(True, False, False)\n",
        "\n",
        "print(num == x*y, num*y == x*y, y > x + num)\n",
        "\n",
        "print(False, True, True)\n",
        "\n"
      ],
      "metadata": {
        "id": "aYqXCDAzcu_Q"
      }
    },
    {
      "cell_type": "code",
      "source": [
        "x = 10\n",
        "y = 4.2\n",
        "num = float(input(\"Digite um número a seguir: \"))\n",
        "#print(num > x*y, num <= x + y, num*y != x*y)\n",
        "print(num == x*y, num*y == x*y, y > x + num)\n"
      ],
      "metadata": {
        "colab": {
          "base_uri": "https://localhost:8080/"
        },
        "id": "_pRwL4jEf6nT",
        "outputId": "bed7149f-d488-4bff-926c-2ef4fd3e6a26"
      },
      "execution_count": 23,
      "outputs": [
        {
          "output_type": "stream",
          "name": "stdout",
          "text": [
            "Digite um número a seguir: 10\n",
            "False True False\n"
          ]
        }
      ]
    },
    {
      "cell_type": "markdown",
      "source": [
        "Questão 4\n",
        "\n",
        "Em muitos programas é necessário que mais de uma expressão lógica seja avaliada, de maneira composta. É possível realizar a composição lógica através dos operadores and e or do Python. Além disso, o operador not é utilizado para inverter o valor lógico de um booleano ou expressão lógica como um todo.\n",
        "\n",
        "x = 4.2\n",
        "\n",
        "y = 10\n",
        "\n",
        "z = \"42\"\n",
        "\n",
        "not (((x * y == z) and not (x < y)) or y % 2 == 0)\n",
        "\n",
        "Qual das seguintes alternativas contém uma expressão que resulta no mesmo valor lógico (True ou False) que a última linha do código acima?\n",
        "\n",
        "not (not (x < y and x * y == z)) or (x >= y or y % 2 == 0)\n",
        "\n",
        "not False\n",
        "\n",
        "not ((x == y or True) and ((int(z) < x*y) and (type(y) == type(int(z)))))\n",
        "\n",
        "not (((not True) or int(z) % 7 == 0) and ((str(int(x*y)) == z) and (type(x) != type(z))))\n",
        "\n",
        "(True and True) or not True\n",
        "\n"
      ],
      "metadata": {
        "id": "q4SHuixscyHM"
      }
    },
    {
      "cell_type": "code",
      "source": [
        "x = 4.2\n",
        "y = 10\n",
        "z = \"42\"\n",
        "#not (((x * y == z)and not (x < y))or y % 2 == 0)\n",
        "#not (not (x < y and x * y == z)) or (x >= y or y % 2 == 0)\n",
        "#not ((x == y or True) and ((int(z) < x*y) and (type(y) == type(int(z)))))\n",
        "#not (((not True) or int(z) % 7 == 0) and ((str(int(x*y)) == z) and (type(x) != type(z))))\n",
        "(True and True) or not True\n"
      ],
      "metadata": {
        "colab": {
          "base_uri": "https://localhost:8080/"
        },
        "id": "0Ee-xvVpegWx",
        "outputId": "5812763d-055d-49b1-c55b-fa5d16560ee7"
      },
      "execution_count": 21,
      "outputs": [
        {
          "output_type": "execute_result",
          "data": {
            "text/plain": [
              "True"
            ]
          },
          "metadata": {},
          "execution_count": 21
        }
      ]
    },
    {
      "cell_type": "markdown",
      "source": [
        "Questão 5\n",
        "\n",
        "Um dos principais usos destinados aos operadores lógicos é a construção de expressões condicionais, que são utilizadas para (re)direcionar o fluxo de um programa. Isso é possível com as expressões if, elif e else em Python.\n",
        "\n",
        "a = int(input(\"Digite o primeiro número inteiro: \"))\n",
        "b = int(input(\"Digite o segundo número inteiro: \"))\n",
        "c = int(input(\"Digite o terceiro número inteiro: \"))\n",
        "\n",
        "if a > b and a > c:\n",
        "\n",
        "  resposta = a % 2 == 0\n",
        "\n",
        "elif b > a and b > c:\n",
        "\n",
        "  resposta = b % 2 == 0\n",
        "\n",
        "else:\n",
        "\n",
        "  resposta = c % 2 == 0\n",
        "\n",
        "print(XXX, resposta)\n",
        "\n",
        "Pelo que o \"XXX\" deve ser substituído no código acima (ou seja, o que este código efetivamente faz?)\n",
        "\n",
        "\"O maior número entre os três informados é positivo?\" (ou seja, o programa exibe, através de um booleano, se o maior entre os três números informados é positivo).\n",
        "\n",
        "\"O maior entre os três números informados é:\" (ou seja, o programa exibe qual é o maior entre os três números informados).\n",
        "\n",
        "\"O maior número entre os três informados é par?\", (ou seja, o programa exibe, através de um booleano, se o maior entre os três números informados é par).\n",
        "\n",
        "\"O menor entre os três números informados é:\" (ou seja, o programa exibe qual é o menor entre os três números informados).\n",
        "\n",
        "\"O maior número entre os três informados é ímpar?\" (ou seja, o programa exibe, através de um booleano, se o maior entre os três números informados é ímpar).\n"
      ],
      "metadata": {
        "id": "Xq2cWrz3c2wi"
      }
    },
    {
      "cell_type": "code",
      "source": [
        "# > CONDICIONAIS\n",
        "\n",
        "idade = 20\n",
        "if idade >= 18:\n",
        "    print('Você é maior de idade')\n",
        "    print('Pode entrar')\n",
        "else:\n",
        "    print('Você é menor de idade')\n",
        "    print('Não pode entrar')\n",
        "\n",
        "\"\"\"\n",
        "\n",
        "  Imagine qeu você queira imprimir \"Aprovado\" se a média for maior que 7,\n",
        "  e \"Reprovado\" se a média for menor que 7.\n",
        "\"\"\"\n",
        "\n",
        "\"\"\"media = float(input('Digite a média do aluno: '))\n",
        "if media >= 7:\n",
        "    print('Aprovado')\n",
        "    print('Parabéns')\n",
        "elif media >= 5:\n",
        "  print('Recuperação')\n",
        "else:\n",
        "    print('Reprovado')\n",
        "    print('Infelizmente')\"\"\"\n",
        "\n",
        "media = 10\n",
        "presenca = 100\n",
        "\n",
        "if media >= 7 and presenca >= 70:\n",
        "    print('Aprovado')\n",
        "    print('Parabéns')\n",
        "elif media >= 5 and presenca >= 70:\n",
        "  print('Recuperação')\n",
        "else:\n",
        "    print('Reprovado')\n",
        "    print('Infelizmente')\n"
      ],
      "metadata": {
        "colab": {
          "base_uri": "https://localhost:8080/"
        },
        "id": "cGz8ZTXuinD6",
        "outputId": "0d8f9625-f31e-418e-d03b-25709dce1ea8"
      },
      "execution_count": 30,
      "outputs": [
        {
          "output_type": "stream",
          "name": "stdout",
          "text": [
            "Você é maior de idade\n",
            "Pode entrar\n",
            "Aprovado\n",
            "Parabéns\n"
          ]
        }
      ]
    },
    {
      "cell_type": "code",
      "source": [
        "# > WHILE\n",
        "numero_sorteado = 8\n",
        "\n",
        "numero_escolhido = int(input('Informe um número entre 1 e 10: '))\n",
        "\n",
        "4\n",
        "while numero_escolhido != numero_sorteado:\n",
        "    print('Você errou')\n",
        "\n",
        "    numero_escolhido = int(input('Informe um número entre 1 e 10: '))\n",
        "\n",
        "print('Congratulations!')\n",
        "\n",
        "#Exemplo 02: Estrutura com contador\n",
        "\n",
        "contador = 1\n",
        "\n",
        "while contador <= 10:\n",
        "    print(contador)\n",
        "\n",
        "    contador = contador + 1\n",
        "\n",
        "#\n",
        "# > FOR\n",
        "\n"
      ],
      "metadata": {
        "colab": {
          "base_uri": "https://localhost:8080/"
        },
        "id": "jT5s491gtQKl",
        "outputId": "2cac828e-a5c3-4b24-b867-353096b94047"
      },
      "execution_count": 42,
      "outputs": [
        {
          "output_type": "stream",
          "name": "stdout",
          "text": [
            "Informe um número entre 1 e 10: 5\n",
            "Você errou\n",
            "Informe um número entre 1 e 10: 7\n",
            "Você errou\n",
            "Informe um número entre 1 e 10: 8\n",
            "Congratulations!\n",
            "1\n",
            "2\n",
            "3\n",
            "4\n",
            "5\n",
            "6\n",
            "7\n",
            "8\n",
            "9\n",
            "10\n"
          ]
        }
      ]
    }
  ]
}