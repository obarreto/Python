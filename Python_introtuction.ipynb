{
  "nbformat": 4,
  "nbformat_minor": 0,
  "metadata": {
    "colab": {
      "provenance": [],
      "authorship_tag": "ABX9TyPkREyD8NGSaElQGZAwoJo9",
      "include_colab_link": true
    },
    "kernelspec": {
      "name": "python3",
      "display_name": "Python 3"
    },
    "language_info": {
      "name": "python"
    }
  },
  "cells": [
    {
      "cell_type": "markdown",
      "metadata": {
        "id": "view-in-github",
        "colab_type": "text"
      },
      "source": [
        "<a href=\"https://colab.research.google.com/github/obarreto/Python/blob/main/Python_introtuction.ipynb\" target=\"_parent\"><img src=\"https://colab.research.google.com/assets/colab-badge.svg\" alt=\"Open In Colab\"/></a>"
      ]
    },
    {
      "cell_type": "code",
      "execution_count": 1,
      "metadata": {
        "colab": {
          "base_uri": "https://localhost:8080/",
          "height": 87
        },
        "id": "LWdbalARPuOl",
        "outputId": "76f9226f-d1d0-458c-853d-419dd63a2364"
      },
      "outputs": [
        {
          "name": "stdout",
          "output_type": "stream",
          "text": [
            "Hello World\n",
            "Seja bem-vindo(a) ao curso de Python do Coding Tank !\n",
            "Qual é alinguagem de programção que você está utilizando? Python\n"
          ]
        },
        {
          "output_type": "execute_result",
          "data": {
            "text/plain": [
              "'Python'"
            ],
            "application/vnd.google.colaboratory.intrinsic+json": {
              "type": "string"
            }
          },
          "metadata": {},
          "execution_count": 1
        }
      ],
      "source": [
        "print ('Hello World')\n",
        "print('Seja bem-vindo(a) ao curso de Python do Coding Tank !')\n",
        "\n",
        "input('Qual é alinguagem de programção que você está utilizando? ')\n"
      ]
    },
    {
      "cell_type": "code",
      "source": [
        "# > VARIÁBLES\n",
        "\n",
        "#1. Variáveis\n",
        "\n",
        "idade = 26 # Criando um variável\n",
        "\n",
        "print(idade)\n",
        "\n",
        "nome = 'Ozeias Barreto'\n",
        "print(nome)\n",
        "\"\"\"\n",
        "Tipos de variáveis\n",
        "\n",
        "1. int:n[numeros inteiros, ou seja, números sem parte decimal: 0, 5, -1, 1000]\n",
        "2. float: números reais, ou seja, números com parte de cimal: 1.0, -2.7, 3.14\n",
        "3. str: cadeias de caracteres, ou seja, dados textuais\n",
        "4. bool: valores lógicos(booleanos): True ou False\n",
        "\"\"\""
      ],
      "metadata": {
        "colab": {
          "base_uri": "https://localhost:8080/",
          "height": 35
        },
        "id": "UVO4Cn9nPvr3",
        "outputId": "81fb8a9e-4f41-44c3-9afb-0985536431b4"
      },
      "execution_count": 2,
      "outputs": [
        {
          "output_type": "execute_result",
          "data": {
            "text/plain": [
              "'\\n'"
            ],
            "application/vnd.google.colaboratory.intrinsic+json": {
              "type": "string"
            }
          },
          "metadata": {},
          "execution_count": 2
        }
      ]
    },
    {
      "cell_type": "code",
      "source": [
        "idade = 35\n",
        "print(idade)\n",
        "altura = 1.75\n",
        "print(altura)\n",
        "nome = \"Ozeias Barreto\"\n",
        "print (nome)\n",
        "estudando = True\n",
        "print(estudando)\n",
        "\n",
        "print( type(idade))\n",
        "print( type(altura))\n",
        "print( type(nome))\n",
        "print( type(estudando))\n",
        "\n",
        "#Obtendo dados do usuário e salvando em variáveis\n",
        "\n",
        "linguagem = input('Qual linguagem você está estudando ? ')\n",
        "print('A linguagem que você está estudando é ' + linguagem + '!')"
      ],
      "metadata": {
        "colab": {
          "base_uri": "https://localhost:8080/"
        },
        "id": "CF-CyWXUQni1",
        "outputId": "b81f804d-441b-4786-cff1-f24368bdec68"
      },
      "execution_count": 4,
      "outputs": [
        {
          "output_type": "stream",
          "name": "stdout",
          "text": [
            "35\n",
            "1.75\n",
            "Ozeias Barreto\n",
            "True\n",
            "<class 'int'>\n",
            "<class 'float'>\n",
            "<class 'str'>\n",
            "<class 'bool'>\n",
            "Qual linguagem você está estudando ? Python\n",
            "A linguagem que você está estudando é Python!\n"
          ]
        }
      ]
    }
  ]
}