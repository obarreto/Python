{
  "nbformat": 4,
  "nbformat_minor": 0,
  "metadata": {
    "colab": {
      "provenance": [],
      "authorship_tag": "ABX9TyN2tgCzzj0Hw+SpMGuSE7i9",
      "include_colab_link": true
    },
    "kernelspec": {
      "name": "python3",
      "display_name": "Python 3"
    },
    "language_info": {
      "name": "python"
    }
  },
  "cells": [
    {
      "cell_type": "markdown",
      "metadata": {
        "id": "view-in-github",
        "colab_type": "text"
      },
      "source": [
        "<a href=\"https://colab.research.google.com/github/obarreto/Python/blob/main/Aula_01_matrizes.ipynb\" target=\"_parent\"><img src=\"https://colab.research.google.com/assets/colab-badge.svg\" alt=\"Open In Colab\"/></a>"
      ]
    },
    {
      "cell_type": "code",
      "execution_count": 1,
      "metadata": {
        "id": "CN6G2ZyXrQEB"
      },
      "outputs": [],
      "source": [
        "matriz_A = [[1, 2, 3,], [4, 5, 6]]"
      ]
    },
    {
      "cell_type": "code",
      "source": [
        "matriz_A"
      ],
      "metadata": {
        "colab": {
          "base_uri": "https://localhost:8080/"
        },
        "id": "aYnlv3QnsF5v",
        "outputId": "b10c2725-f246-46b3-9c88-88411d305359"
      },
      "execution_count": 2,
      "outputs": [
        {
          "output_type": "execute_result",
          "data": {
            "text/plain": [
              "[[1, 2, 3], [4, 5, 6]]"
            ]
          },
          "metadata": {},
          "execution_count": 2
        }
      ]
    },
    {
      "cell_type": "code",
      "source": [
        "matriz_A[0] # acessando a primeira linha --> NO PYTHON O ÍNDICE COMEÇA DP ZERO"
      ],
      "metadata": {
        "colab": {
          "base_uri": "https://localhost:8080/"
        },
        "id": "FcgWlWkHsIS8",
        "outputId": "5ebed31d-6085-4687-8087-1e2ec83d232c"
      },
      "execution_count": 3,
      "outputs": [
        {
          "output_type": "execute_result",
          "data": {
            "text/plain": [
              "[1, 2, 3]"
            ]
          },
          "metadata": {},
          "execution_count": 3
        }
      ]
    },
    {
      "cell_type": "code",
      "source": [
        "matriz_A[1] # acessando a segunda linha"
      ],
      "metadata": {
        "colab": {
          "base_uri": "https://localhost:8080/"
        },
        "id": "4H1GWIabsYaE",
        "outputId": "fb80823e-7435-44b6-9a5b-8e8cdf72a7a9"
      },
      "execution_count": 4,
      "outputs": [
        {
          "output_type": "execute_result",
          "data": {
            "text/plain": [
              "[4, 5, 6]"
            ]
          },
          "metadata": {},
          "execution_count": 4
        }
      ]
    },
    {
      "cell_type": "code",
      "source": [
        "matriz_A[0][1]"
      ],
      "metadata": {
        "colab": {
          "base_uri": "https://localhost:8080/"
        },
        "id": "RILKhb9FseJd",
        "outputId": "a0fd4a3f-c059-41f5-d05a-cc61a6d695ac"
      },
      "execution_count": 5,
      "outputs": [
        {
          "output_type": "execute_result",
          "data": {
            "text/plain": [
              "2"
            ]
          },
          "metadata": {},
          "execution_count": 5
        }
      ]
    },
    {
      "cell_type": "markdown",
      "source": [
        "Usa listas aninhadas como matriz funciona para tarefas computacionais simple, no entando, existe uma maneira melhor de trabalhar com matrizes em Python usando o pacote NumPy\n",
        "\n",
        "NumPy Array: NumPy\n",
        "\n",
        "NumPy é um pacote para computação ciêntifica que fornece uma ampla gama de funçãoes e metódos para trabalhar com matrizes multidemensionais."
      ],
      "metadata": {
        "id": "cpgjGPATs6EM"
      }
    },
    {
      "cell_type": "code",
      "source": [
        "import numpy as np\n",
        "matriz_b = np.array([[1, 2, 3], [4, 5, 6], [7, 8, 9]])\n",
        "\n",
        "matriz_b\n",
        "matriz_b.T\n",
        "matriz_b.T.T\n",
        "matriz_b.T.T.T"
      ],
      "metadata": {
        "colab": {
          "base_uri": "https://localhost:8080/"
        },
        "id": "nfl44QlCtatX",
        "outputId": "f628ea8c-1c89-4482-df47-0467736f85b8"
      },
      "execution_count": 10,
      "outputs": [
        {
          "output_type": "execute_result",
          "data": {
            "text/plain": [
              "array([[1, 4, 7],\n",
              "       [2, 5, 8],\n",
              "       [3, 6, 9]])"
            ]
          },
          "metadata": {},
          "execution_count": 10
        }
      ]
    },
    {
      "cell_type": "code",
      "source": [
        "matriz_b[0] # Acessando a primeira linha"
      ],
      "metadata": {
        "colab": {
          "base_uri": "https://localhost:8080/"
        },
        "id": "l8qZ9OsPuHTR",
        "outputId": "745bb6d8-4b00-48a3-aee6-9d078e9bcf4b"
      },
      "execution_count": 13,
      "outputs": [
        {
          "output_type": "execute_result",
          "data": {
            "text/plain": [
              "array([1, 2, 3])"
            ]
          },
          "metadata": {},
          "execution_count": 13
        }
      ]
    },
    {
      "cell_type": "code",
      "source": [
        "matriz_b[2][1] # acessar a terceira da segunda coluna"
      ],
      "metadata": {
        "colab": {
          "base_uri": "https://localhost:8080/"
        },
        "id": "Em9o5H4GuWM2",
        "outputId": "09c301ad-a805-42cc-a440-c55640455d18"
      },
      "execution_count": 14,
      "outputs": [
        {
          "output_type": "execute_result",
          "data": {
            "text/plain": [
              "8"
            ]
          },
          "metadata": {},
          "execution_count": 14
        }
      ]
    },
    {
      "cell_type": "markdown",
      "source": [
        "Algumas operações que podemos realizar em matrizes usando o NumPy\n",
        "\n",
        "* Transposição de matriz\n",
        "Atranposição de uma matriz é uma operação que tro as linha pelas colunas. Por exemplo se tivermos A com dimensão m x n, a transposta de A é uma matriz B com dimensão n x m, o o elementos na linha i e coluna j de B é o elemento na linha j e coluna i de A."
      ],
      "metadata": {
        "id": "mV0KcYDRuwKK"
      }
    },
    {
      "cell_type": "code",
      "source": [
        "matriz_transposta = matriz_b.transpose()\n",
        "matriz_transposta"
      ],
      "metadata": {
        "colab": {
          "base_uri": "https://localhost:8080/"
        },
        "id": "tdevcPCgwE7t",
        "outputId": "27c615a9-d160-42ae-e5ca-b02ffed3cd10"
      },
      "execution_count": 16,
      "outputs": [
        {
          "output_type": "execute_result",
          "data": {
            "text/plain": [
              "array([[1, 4, 7],\n",
              "       [2, 5, 8],\n",
              "       [3, 6, 9]])"
            ]
          },
          "metadata": {},
          "execution_count": 16
        }
      ]
    },
    {
      "cell_type": "markdown",
      "source": [
        "* Adição de matrizes:\n",
        "\n",
        "A adição e subtração de matrizes são realizadas elemento po elemento. Para que duas mastrizes possam ser adicionadas ou subtraídas, elas devem ter a mesma dimensão m x n, a soma de A e B é uma matriz C, onde cada elemento de C é a soma dos elementos correspondentes de A e B."
      ],
      "metadata": {
        "id": "CHf-tkxNwQDI"
      }
    },
    {
      "cell_type": "code",
      "source": [
        "matriz1 = np.array([[1, 2, 3], [4, 5, 6], [7, 8, 9]])\n",
        "matriz2 = np.array([[1, 2, 3], [4, 5, 6], [7, 8, 9]])\n",
        "\n",
        "matriz1 + matriz2"
      ],
      "metadata": {
        "colab": {
          "base_uri": "https://localhost:8080/"
        },
        "id": "lDVLOyarwt_4",
        "outputId": "301ee606-7043-418e-f212-83cc6cc6b64e"
      },
      "execution_count": 17,
      "outputs": [
        {
          "output_type": "execute_result",
          "data": {
            "text/plain": [
              "array([[ 2,  4,  6],\n",
              "       [ 8, 10, 12],\n",
              "       [14, 16, 18]])"
            ]
          },
          "metadata": {},
          "execution_count": 17
        }
      ]
    },
    {
      "cell_type": "markdown",
      "source": [
        "* Subtração de matrizes"
      ],
      "metadata": {
        "id": "xC6X_vNKxlJf"
      }
    },
    {
      "cell_type": "code",
      "source": [
        "matriz1 = np.array([[1, 2, 3], [4, 5, 6], [7, 8, 9]])\n",
        "matriz2 = np.array([[1, 2, 3], [4, 5, 6], [7, 8, 9]])\n",
        "\n",
        "matriz1 - matriz2"
      ],
      "metadata": {
        "colab": {
          "base_uri": "https://localhost:8080/"
        },
        "id": "AkAp1B7Kx5Gb",
        "outputId": "cd01ec70-0abd-4717-f3d2-6a045d0bf1be"
      },
      "execution_count": 18,
      "outputs": [
        {
          "output_type": "execute_result",
          "data": {
            "text/plain": [
              "array([[0, 0, 0],\n",
              "       [0, 0, 0],\n",
              "       [0, 0, 0]])"
            ]
          },
          "metadata": {},
          "execution_count": 18
        }
      ]
    },
    {
      "cell_type": "markdown",
      "source": [
        "A multiplicação de matriz é um pouco mais complexa. A multiplicação de duas matrizes A e B é definida apenas se número de colunas da PRIMEIRA MATRIZ for igual ao número de linhas de SEGUNDA MATRIZ. O resultado de multiplicação é uma matriz C, onde o elemento na linha i e a coluna j é produto escalar da linha i de A e da coluna j de B"
      ],
      "metadata": {
        "id": "YWuPa3flyFC0"
      }
    },
    {
      "cell_type": "code",
      "source": [
        "matriz1 = np.array([[1, 2, 3], [4, 5, 6], [7, 8, 9]])\n",
        "matriz2 = np.array([[1, 2, 3], [4, 5, 6], [7, 8, 9]])\n",
        "\n",
        "np.dot(matriz1, matriz2)"
      ],
      "metadata": {
        "colab": {
          "base_uri": "https://localhost:8080/"
        },
        "id": "sNYpBjCUyjIZ",
        "outputId": "c6f0a473-88c5-4e8b-cc60-fc68b3615692"
      },
      "execution_count": 24,
      "outputs": [
        {
          "output_type": "execute_result",
          "data": {
            "text/plain": [
              "array([[ 30,  36,  42],\n",
              "       [ 66,  81,  96],\n",
              "       [102, 126, 150]])"
            ]
          },
          "metadata": {},
          "execution_count": 24
        }
      ]
    },
    {
      "cell_type": "markdown",
      "source": [],
      "metadata": {
        "id": "QM5UFmDi2r6V"
      }
    },
    {
      "cell_type": "code",
      "source": [
        "matriz_A = np.array([[1, 2, 3], [4, 5, 6], [7, 8, 9]])\n",
        "matriz_B = np.array([[1, 2], [3, 4], [5, 6]])\n",
        "\n",
        "matriz_A.dot(matriz_B)"
      ],
      "metadata": {
        "colab": {
          "base_uri": "https://localhost:8080/"
        },
        "id": "cSpJUEwwzDwG",
        "outputId": "8efdc526-ba9f-47b2-eae5-2fa3652e195c"
      },
      "execution_count": 23,
      "outputs": [
        {
          "output_type": "execute_result",
          "data": {
            "text/plain": [
              "array([[ 22,  28],\n",
              "       [ 49,  64],\n",
              "       [ 76, 100]])"
            ]
          },
          "metadata": {},
          "execution_count": 23
        }
      ]
    },
    {
      "cell_type": "markdown",
      "source": [
        "Novamente, para multiplicar as matrizes A e B, precisamos garantir que o número de colunas da matriz A seja igual ao número de linhas da matriz B. Neste caso, a matriz A tem dimensão m por n e a matriz B tem dimensão n por p, então podemos multiplicá-las.\n",
        "\n",
        "Para realizar a multiplicação, precisamos multiplicar cada elemento da primeira linha da matriz A pelos elementos correspondentes da primeira coluna da matriz B e somar os produtos. Em seguidas, fazemos o mesmo para a segunda linha da matriz A e a segunda coluna matriz B. O resultado é uma matriz C com o número de linhas da matriz A e o número de colunas da matriz B."
      ],
      "metadata": {
        "id": "_f6T1ORX1Qxr"
      }
    },
    {
      "cell_type": "markdown",
      "source": [
        "* Divisão de matrizes\n",
        "\n",
        "Tecnicamente, a divisão de matrizes não existe. Em vez disso, é necessário multiplicar um matriz pelo inverso da outra. Por exemplo, se tivermos duas matrizes A e B, a divisão de A por B seria escrita como A * B^1. Para calcular a divisão de matrizes,, a matriz B deve ser quadrada e seu determinante deve ser diferente de zero. Caso contrário, a divisão não é possível.\n",
        "\n",
        "Conclusão\n",
        "* Álgebra linear é um ramo da matemática que está atrelado a resolução de problemas computacionais e estatísticos;\n",
        "* Utilzar a ferramenta matemática + programação nos dá precisão e agilidade nos resultados.\n",
        "* Aprender um básico sobre matrizes e propriedades nos levam a compreender o que vem de conteúdos posteriores."
      ],
      "metadata": {
        "id": "6QBFF2KF2vzk"
      }
    }
  ]
}