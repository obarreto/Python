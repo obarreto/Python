{
  "nbformat": 4,
  "nbformat_minor": 0,
  "metadata": {
    "colab": {
      "provenance": [],
      "authorship_tag": "ABX9TyP8SLHl1/b/pS+Q+d8oCBlv",
      "include_colab_link": true
    },
    "kernelspec": {
      "name": "python3",
      "display_name": "Python 3"
    },
    "language_info": {
      "name": "python"
    }
  },
  "cells": [
    {
      "cell_type": "markdown",
      "metadata": {
        "id": "view-in-github",
        "colab_type": "text"
      },
      "source": [
        "<a href=\"https://colab.research.google.com/github/obarreto/Python/blob/main/Aula_2_matrizes_especiais.ipynb\" target=\"_parent\"><img src=\"https://colab.research.google.com/assets/colab-badge.svg\" alt=\"Open In Colab\"/></a>"
      ]
    },
    {
      "cell_type": "code",
      "execution_count": 1,
      "metadata": {
        "colab": {
          "base_uri": "https://localhost:8080/"
        },
        "id": "i_7f9CEc4doP",
        "outputId": "f42b904d-f6ce-4bc6-d17f-4d5d23edea04"
      },
      "outputs": [
        {
          "output_type": "stream",
          "name": "stdout",
          "text": [
            "[[1 2 3]\n",
            " [4 5 6]\n",
            " [7 8 9]]\n"
          ]
        }
      ],
      "source": [
        "import numpy as np\n",
        "\n",
        "matriz = np.array([[1,2,3],[4,5,6],[7,8,9]])\n",
        "print(matriz)"
      ]
    },
    {
      "cell_type": "code",
      "source": [
        "matriz.transpose()"
      ],
      "metadata": {
        "colab": {
          "base_uri": "https://localhost:8080/"
        },
        "id": "wn57BG2Q5z4P",
        "outputId": "610b3904-98bc-4d03-e04b-ae2017e7a6e0"
      },
      "execution_count": 2,
      "outputs": [
        {
          "output_type": "execute_result",
          "data": {
            "text/plain": [
              "array([[1, 4, 7],\n",
              "       [2, 5, 8],\n",
              "       [3, 6, 9]])"
            ]
          },
          "metadata": {},
          "execution_count": 2
        }
      ]
    },
    {
      "cell_type": "code",
      "source": [
        "matriz.T"
      ],
      "metadata": {
        "colab": {
          "base_uri": "https://localhost:8080/"
        },
        "id": "DpPPvfmd56t2",
        "outputId": "d75f26d0-98b6-4112-b5ee-c5cb7993c2f4"
      },
      "execution_count": 3,
      "outputs": [
        {
          "output_type": "execute_result",
          "data": {
            "text/plain": [
              "array([[1, 4, 7],\n",
              "       [2, 5, 8],\n",
              "       [3, 6, 9]])"
            ]
          },
          "metadata": {},
          "execution_count": 3
        }
      ]
    },
    {
      "cell_type": "markdown",
      "source": [
        "Matriz Inversa\n",
        "\n",
        "A matriz inversa é uma matriz que e obtida a partir de uma matriz quadrada A, tal que o produto entre ela e sua inversa resulta na matriz indentidade. A inversa de uma matriz A é denotada por A^-1. Para calcular a matriz inversa de uma matriz A, é necessário que o determinante de A seja diferente de zero. A representação matemática da matriz inversa de matriz A é\n",
        "\n",
        "A matriz inversa tem alguma propriedades interessantes, como:\n",
        "\n",
        "A inversa da inversa de uma matriz é igual à matriz original:\n",
        "(A¬¹)-¹ = A\n",
        "\n",
        "A inversa da matriz identidade é igual à matriz identidade:\n",
        "I-¹ = I\n",
        "\n",
        "A inversa da soma de duas matrizes é igual à soma das inversas de cada matriz:\n",
        "(A + B)-¹ = A-¹ + B-¹"
      ],
      "metadata": {
        "id": "clvI-lJT6An9"
      }
    },
    {
      "cell_type": "code",
      "source": [],
      "metadata": {
        "id": "fxDFRn2l-9Xf"
      },
      "execution_count": null,
      "outputs": []
    },
    {
      "cell_type": "code",
      "source": [
        "A = matriz\n",
        "A"
      ],
      "metadata": {
        "id": "2gTVbt-d7XiD"
      },
      "execution_count": null,
      "outputs": []
    },
    {
      "cell_type": "code",
      "source": [
        "# Para a matriz A ter matriz inversa.\n",
        "# matriz original tem que ser quadrada : 4x4\n",
        "# determinante da original tem que ser diferente de zero\n",
        "\n",
        "# determinante de A tem que ser diferente de zero\n",
        "np.linalg.det(A) #linalg() - Linged Alg / Algebra Linear"
      ],
      "metadata": {
        "id": "vKAzBpbV_Sst"
      },
      "execution_count": null,
      "outputs": []
    },
    {
      "cell_type": "code",
      "source": [
        "# calculando a inversa da matriz A\n",
        "\n",
        "np.lingalg.inv(A)"
      ],
      "metadata": {
        "id": "nlPbZbS5_7nu"
      },
      "execution_count": null,
      "outputs": []
    },
    {
      "cell_type": "code",
      "source": [
        "A_inv = np.linalg.inv(A) # matriz inversa\n"
      ],
      "metadata": {
        "id": "6vmwzyNZAF73"
      },
      "execution_count": null,
      "outputs": []
    },
    {
      "cell_type": "code",
      "source": [
        "A"
      ],
      "metadata": {
        "id": "fpnRjETeARs0"
      },
      "execution_count": null,
      "outputs": []
    },
    {
      "cell_type": "code",
      "source": [
        "A_inv"
      ],
      "metadata": {
        "id": "QNbgfPyNASks"
      },
      "execution_count": null,
      "outputs": []
    }
  ]
}